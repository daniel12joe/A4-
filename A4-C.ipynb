{
 "cells": [
  {
   "cell_type": "code",
   "execution_count": 5,
   "id": "52fd8da6-a9f9-4651-a9a8-438144201006",
   "metadata": {},
   "outputs": [
    {
     "name": "stderr",
     "output_type": "stream",
     "text": [
      "/var/folders/5r/k_g8rh1s7_z37z47cpzfx9j40000gn/T/ipykernel_5104/3360650909.py:4: DtypeWarning: Columns (1) have mixed types. Specify dtype option on import or set low_memory=False.\n",
      "  df = pd.read_csv('/Users/danieljoegasper/Downloads/NSSO68 (1).csv')\n"
     ]
    }
   ],
   "source": [
    "import pandas as pd\n",
    "\n",
    "# Replace with your actual file path\n",
    "df = pd.read_csv('/Users/danieljoegasper/Downloads/NSSO68 (1).csv')"
   ]
  },
  {
   "cell_type": "code",
   "execution_count": 6,
   "id": "f8c5c68b-671b-49ff-8513-41225743c0c8",
   "metadata": {},
   "outputs": [
    {
     "name": "stdout",
     "output_type": "stream",
     "text": [
      "['slno', 'grp', 'Round_Centre', 'FSU_number', 'Round', 'Schedule_Number', 'Sample', 'Sector', 'state', 'State_Region', 'District', 'Stratum_Number', 'Sub_Stratum', 'Schedule_type', 'Sub_Round', 'Sub_Sample', 'FOD_Sub_Region', 'Hamlet_Group_Sub_Block', 't', 'X_Stage_Stratum', 'HHS_No', 'Level', 'Filler', 'hhdsz', 'NIC_2008', 'NCO_2004', 'HH_type', 'Religion', 'Social_Group', 'Whether_owns_any_land', 'Type_of_land_owned', 'Land_Owned', 'Land_Leased_in', 'Otherwise_possessed', 'Land_Leased_out', 'Land_Total_possessed', 'During_July_June_Cultivated', 'During_July_June_Irrigated', 'NSS', 'NSC', 'MLT', 'land_tt', 'Cooking_code', 'Lighting_code', 'Dwelling_unit_code', 'Regular_salary_earner', 'Perform_Ceremony', 'Meals_seved_to_non_hhld_members', 'Possess_ration_card', 'Type_of_ration_card', 'MPCE_URP', 'MPCE_MRP', 'Person_Srl_No', 'Relation', 'Sex', 'Age', 'Marital_Status', 'Education', 'Days_Stayed_away', 'No_of_Meals_per_day', 'Meals_School', 'Meals_Employer', 'Meals_Others', 'Meals_Payment', 'Meals_At_Home', 'Item_Code', 'Source_Code', 'ricepds_q', 'riceos_q', 'ricetotal_q', 'chira_q', 'khoi_q', 'muri_q', 'ricepro_q', 'riceGT_q', 'Wheatpds_q', 'wheatos_q', 'wheattotal_q', 'maida_q', 'suji_q', 'sewai_q', 'bread_q', 'wheatp_q', 'wheatGT_q', 'jowarp_q', 'bajrap_q', 'maizep_q', 'barleyp_q', 'milletp_q', 'ragip_q', 'cerealot_q', 'cerealtot_q', 'cerealsub_q', 'cerealstt_q', 'arhar_q', 'gramdal_q', 'gramwholep_q', 'gramGT_q', 'moong_q', 'masur_q', 'urd_q', 'peasdal_q', 'khesari_q', 'otpulse_q', 'gramp_q', 'besan_q', 'pulsep_q', 'pulsestot_q', 'pulsestt_q', 'soyabean_q', 'milk_q', 'babyfood_q', 'milkcond_q', 'curd_q', 'ghee_q', 'butter_q', 'icecream_q', 'otmilkp_q', 'Milktotal_q', 'milkprott_q', 'vanas_q', 'musoil_q', 'gnoil_q', 'cocooil_q', 'edioilothr_q', 'edibletotal_q', 'ediblest_q', 'eggsno_q', 'fishprawn_q', 'goatmeat_q', 'beef_q', 'pork_q', 'chicken_q', 'othrbirds_q', 'nonvegtotal_q', 'emftt_q', 'potato_q', 'onion_q', 'tamato_q', 'brinjal_q', 'radish_q', 'carrot_q', 'palak_q', 'chillig_q', 'bhindi_q', 'parwal_q', 'cauli_q', 'cabbage_q', 'pumpkin_q', 'peas_q', 'fbeans_q', 'lemonno_q', 'otveg_q', 'vegtt_q', 'bananano_q', 'jackfruit_q', 'watermel_q', 'pineaplno_q', 'cocono_q', 'cocogno_q', 'guava_q', 'sighara_q', 'orangeno_q', 'papayar_q', 'mango_q', 'kharbooz_q', 'pears_q', 'berries_q', 'leechi_q', 'apple_q', 'grapes_q', 'otfruits_q', 'fruitstt_q', 'fruitt_total', 'cocodf_q', 'gnutdf_q', 'datesdf_q', 'cashewdf_q', 'walnutdf_q', 'otnutsdf_q', 'kishmish_q', 'otherdf_q', 'dryfruitstotal_q', 'dftt_q', 'sugarpds_q', 'sugaros_q', 'sugarst_q', 'gur_q', 'misri_q', 'honey_q', 'sugartotal_q', 'sugartt_q', 'salt_q', 'ginger_q', 'garlic_q', 'jeera_q', 'dhania_q', 'turnmeric_q', 'blackpepper_q', 'drychilly_q', 'tamarind_q', 'currypowder_q', 'oilseeds_q', 'spicesothr_q', 'spicetot_q', 'spicestotal_q', 'teacupno_q', 'tealeaf_q', 'teatotal_q', 'cofeeno_q', 'coffeepwdr_q', 'cofeetotal_q', 'ice_q', 'coldbvrg_q', 'juice_q', 'othrbevrg_q', 'bevergest_q', 'Biscuits_q', 'preparedsweet_q', 'pickle_q', 'sauce_jam_q', 'Othrprocessed_q', 'Beveragestotal_q', 'ricepds_v', 'riceos_v', 'ricetotal_v', 'chira_v', 'khoi_v', 'muri_v', 'ricepro_v', 'riceGT_v', 'Wheatpds_v', 'wheatos_v', 'wheattotal_v', 'maida_v', 'suji_v', 'sewai_v', 'bread_v', 'wheatp_v', 'wheatGT_v', 'jowarp_v', 'bajrap_v', 'maizep_v', 'barleyp_v', 'milletp_v', 'ragip_v', 'cerealot_v', 'cerealtot_v', 'cerealsub_v', 'cerealstt_v', 'arhar_v', 'gramdal_v', 'gramwholep_v', 'gramGT_v', 'moong_v', 'masur_v', 'urd_v', 'peasdal_v', 'khesari_v', 'otpulse_v', 'gramp_v', 'besan_v', 'pulsep_v', 'pulsestot_v', 'pulsestt_v', 'soyabean_v', 'milk_v', 'babyfood_v', 'milkcond_v', 'curd_v', 'ghee_v', 'butter_v', 'icecream_v', 'otmilkp_v', 'Milktotal_v', 'milkprott_v', 'vanas_v', 'musoil_v', 'gnoil_v', 'cocooil_v', 'edioilothr_v', 'edibletotal_v', 'ediblest_v', 'eggsno_v', 'fishprawn_v', 'goatmeat_v', 'beef_v', 'pork_v', 'chicken_v', 'othrbirds_v', 'nonvegtotal_v', 'emftt_v', 'potato_v', 'onion_v', 'tamato_v', 'brinjal_v', 'radish_v', 'carrot_v', 'palak_v', 'chillig_v', 'bhindi_v', 'parwal_v', 'cauli_v', 'cabbage_v', 'pumpkin_v', 'peas_v', 'fbeans_v', 'lemonno_v', 'otveg_v', 'vegtt_v', 'bananano_v', 'jackfruit_v', 'watermel_v', 'pineaplno_v', 'cocono_v', 'cocogno_v', 'guava_v', 'sighara_v', 'orangeno_v', 'papayar_v', 'mango_v', 'kharbooz_v', 'pears_v', 'berries_v', 'leechi_v', 'apple_v', 'grapes_v', 'otfruits_v', 'fruitstt_v', 'cocodf_v', 'gnutdf_v', 'datesdf_v', 'cashewdf_v', 'walnutdf_v', 'otnutsdf_v', 'kishmish_v', 'otherdf_v', 'dryfruitstotal_v', 'dftt_v', 'sugarpds_v', 'sugaros_v', 'sugarst_v', 'gur_v', 'misri_v', 'honey_v', 'sugartotal_v', 'sugartt_v', 'salt_v', 'ginger_v', 'garlic_v', 'jeera_v', 'dhania_v', 'turnmeric_v', 'blackpepper_v', 'drychilly_v', 'tamarind_v', 'currypowder_v', 'oilseeds_v', 'spicesothr_v', 'spicetot_v', 'spicestotal_v', 'teacupno_v', 'tealeaf_v', 'teatotal_v', 'cofeeno_v', 'coffeepwdr_v', 'cofeetotal_v', 'ice_v', 'coldbvrg_v', 'juice_v', 'othrbevrg_v', 'bevergest_v', 'Biscuits_v', 'preparedsweet_v', 'pickle_v', 'sauce_jam_v', 'Othrprocessed_v', 'Beveragestotal_v', 'foodtotal_v', 'foodtotal_q', 'state_1', 'Region', 'fruits_df_tt_v', 'fv_tot']\n",
      "   slno                                 grp  Round_Centre  FSU_number  Round  \\\n",
      "0     1  40999999999999992652495293775872.0             1       41000     68   \n",
      "1     2  40999999999999992652495293775872.0             1       41000     68   \n",
      "2     3  40999999999999992652495293775872.0             1       41000     68   \n",
      "3     4  40999999999999992652495293775872.0             1       41000     68   \n",
      "4     5  40999999999999992652495293775872.0             1       41000     68   \n",
      "\n",
      "   Schedule_Number  Sample  Sector  state  State_Region  ...  pickle_v  \\\n",
      "0               10       1       2     24           242  ...       0.0   \n",
      "1               10       1       2     24           242  ...       0.0   \n",
      "2               10       1       2     24           242  ...       0.0   \n",
      "3               10       1       2     24           242  ...       0.0   \n",
      "4               10       1       2     24           242  ...       0.0   \n",
      "\n",
      "   sauce_jam_v  Othrprocessed_v  Beveragestotal_v  foodtotal_v  foodtotal_q  \\\n",
      "0          0.0              0.0          0.000000  1141.492400    30.942394   \n",
      "1          0.0              0.0         17.500000  1244.553500    29.286153   \n",
      "2          0.0              0.0          0.000000  1050.315400    31.527046   \n",
      "3          0.0              0.0         33.333333  1142.591667    27.834607   \n",
      "4          0.0              0.0         75.000000   945.249500    27.600713   \n",
      "\n",
      "   state_1  Region  fruits_df_tt_v  fv_tot  \n",
      "0      GUJ       2       12.000000  154.18  \n",
      "1      GUJ       2      333.000000  484.95  \n",
      "2      GUJ       2       35.000000  214.84  \n",
      "3      GUJ       2      168.333333  302.30  \n",
      "4      GUJ       2       15.000000  148.00  \n",
      "\n",
      "[5 rows x 384 columns]\n"
     ]
    }
   ],
   "source": [
    "print(df.columns.tolist())\n",
    "print(df.head())\n"
   ]
  },
  {
   "cell_type": "code",
   "execution_count": 8,
   "id": "dc96b549-aa9f-4e65-a5ed-3a1fdf0523c1",
   "metadata": {},
   "outputs": [],
   "source": [
    "import statsmodels.api as sm "
   ]
  },
  {
   "cell_type": "code",
   "execution_count": 9,
   "id": "92d2e0ed-1494-4105-b21d-fa21cff4774e",
   "metadata": {},
   "outputs": [],
   "source": [
    "\n",
    "# Clean up column names (remove spaces, lowercase for convenience)\n",
    "df.columns = df.columns.str.strip().str.lower()\n",
    "\n",
    "# Define dependent and independent variables\n",
    "y = df['ricepds_q']\n",
    "X = df[['age', 'sex', 'education', 'mpce_urp']]\n",
    "X = sm.add_constant(X)  # add intercept\n"
   ]
  },
  {
   "cell_type": "code",
   "execution_count": 10,
   "id": "50ed0d9b-b1c9-49fd-96fb-189f2fe6f687",
   "metadata": {},
   "outputs": [
    {
     "ename": "NameError",
     "evalue": "name 'GenericLikelihoodModel' is not defined",
     "output_type": "error",
     "traceback": [
      "\u001b[0;31m---------------------------------------------------------------------------\u001b[0m",
      "\u001b[0;31mNameError\u001b[0m                                 Traceback (most recent call last)",
      "Cell \u001b[0;32mIn[10], line 17\u001b[0m\n\u001b[1;32m     14\u001b[0m X \u001b[38;5;241m=\u001b[39m data\u001b[38;5;241m.\u001b[39mdrop(columns\u001b[38;5;241m=\u001b[39m[\u001b[38;5;124m'\u001b[39m\u001b[38;5;124mricepds_q\u001b[39m\u001b[38;5;124m'\u001b[39m])\n\u001b[1;32m     16\u001b[0m \u001b[38;5;66;03m# Define Tobit model class\u001b[39;00m\n\u001b[0;32m---> 17\u001b[0m \u001b[38;5;28;01mclass\u001b[39;00m\u001b[38;5;250m \u001b[39m\u001b[38;5;21;01mTobitModel\u001b[39;00m(\u001b[43mGenericLikelihoodModel\u001b[49m):\n\u001b[1;32m     18\u001b[0m     \u001b[38;5;28;01mdef\u001b[39;00m\u001b[38;5;250m \u001b[39m\u001b[38;5;21m__init__\u001b[39m(\u001b[38;5;28mself\u001b[39m, endog, exog, left\u001b[38;5;241m=\u001b[39m\u001b[38;5;241m0\u001b[39m, \u001b[38;5;241m*\u001b[39m\u001b[38;5;241m*\u001b[39mkwargs):\n\u001b[1;32m     19\u001b[0m         \u001b[38;5;28mself\u001b[39m\u001b[38;5;241m.\u001b[39mleft \u001b[38;5;241m=\u001b[39m left\n",
      "\u001b[0;31mNameError\u001b[0m: name 'GenericLikelihoodModel' is not defined"
     ]
    }
   ],
   "source": [
    "# Clean column names\n",
    "df.columns = df.columns.str.strip().str.lower()\n",
    "\n",
    "# Define dependent and independent variables\n",
    "y = df['ricepds_q']\n",
    "X = df[['age', 'sex', 'education', 'mpce_urp']]\n",
    "\n",
    "# Add constant (intercept) term\n",
    "X = sm.add_constant(X)\n",
    "\n",
    "# Drop missing values\n",
    "data = pd.concat([y, X], axis=1).dropna()\n",
    "y = data['ricepds_q']\n",
    "X = data.drop(columns=['ricepds_q'])\n",
    "\n",
    "# Define Tobit model class\n",
    "class TobitModel(GenericLikelihoodModel):\n",
    "    def __init__(self, endog, exog, left=0, **kwargs):\n",
    "        self.left = left\n",
    "        super(TobitModel, self).__init__(endog, exog, **kwargs)\n",
    "\n",
    "    def nloglikeobs(self, params):\n",
    "        exog = self.exog\n",
    "        endog = self.endog\n",
    "        left = self.left\n",
    "        beta = params[:-1]\n",
    "        sigma = params[-1]\n",
    "        XB = np.dot(exog, beta)\n",
    "        llf = np.zeros(len(endog))\n",
    "        mask_left = endog <= left\n",
    "        llf[mask_left] = np.log(norm.cdf((left - XB[mask_left]) / sigma))\n",
    "        mask_uncensored = ~mask_left\n",
    "        llf[mask_uncensored] = np.log(norm.pdf((endog[mask_uncensored] - XB[mask_uncensored]) / sigma) / sigma)\n",
    "        return -llf\n",
    "\n",
    "    def fit(self, start_params=None, maxiter=10000, maxfun=5000, **kwargs):\n",
    "        if start_params is None:\n",
    "            start_params = np.append(np.zeros(self.exog.shape[1]), 1)\n",
    "        return super(TobitModel, self).fit(start_params=start_params, maxiter=maxiter, maxfun=maxfun, **kwargs)\n",
    "\n",
    "# Fit the Tobit model\n",
    "model = TobitModel(y, X, left=0)\n",
    "results = model.fit(disp=1)\n",
    "\n",
    "# Print results summary\n",
    "print(results.summary())"
   ]
  },
  {
   "cell_type": "code",
   "execution_count": 11,
   "id": "6e68ee79-dc20-41fc-97d4-1321f75709de",
   "metadata": {},
   "outputs": [
    {
     "name": "stderr",
     "output_type": "stream",
     "text": [
      "/var/folders/5r/k_g8rh1s7_z37z47cpzfx9j40000gn/T/ipykernel_5104/277088136.py:8: DtypeWarning: Columns (1) have mixed types. Specify dtype option on import or set low_memory=False.\n",
      "  df = pd.read_csv('/Users/danieljoegasper/Downloads/NSSO68 (1).csv')\n",
      "/var/folders/5r/k_g8rh1s7_z37z47cpzfx9j40000gn/T/ipykernel_5104/277088136.py:40: RuntimeWarning: divide by zero encountered in log\n",
      "  llf[mask_left] = np.log(norm.cdf((left - XB[mask_left]) / sigma))\n",
      "/var/folders/5r/k_g8rh1s7_z37z47cpzfx9j40000gn/T/ipykernel_5104/277088136.py:42: RuntimeWarning: divide by zero encountered in log\n",
      "  llf[mask_uncensored] = np.log(norm.pdf((endog[mask_uncensored] - XB[mask_uncensored]) / sigma) / sigma)\n"
     ]
    },
    {
     "name": "stdout",
     "output_type": "stream",
     "text": [
      "Optimization terminated successfully.\n",
      "         Current function value: 1.591786\n",
      "         Iterations: 368\n",
      "         Function evaluations: 595\n",
      "                              TobitModel Results                              \n",
      "==============================================================================\n",
      "Dep. Variable:              ricepds_q   Log-Likelihood:            -1.6181e+05\n",
      "Model:                     TobitModel   AIC:                         3.236e+05\n",
      "Method:            Maximum Likelihood   BIC:                         3.237e+05\n",
      "Date:                Mon, 30 Jun 2025                                         \n",
      "Time:                        22:38:18                                         \n",
      "No. Observations:              101655                                         \n",
      "Df Residuals:                  101650                                         \n",
      "Df Model:                           4                                         \n",
      "==============================================================================\n",
      "                 coef    std err          z      P>|z|      [0.025      0.975]\n",
      "------------------------------------------------------------------------------\n",
      "const          0.0554      0.123      0.450      0.653      -0.186       0.296\n",
      "age            0.0107      0.002      6.377      0.000       0.007       0.014\n",
      "sex            0.6695      0.068      9.831      0.000       0.536       0.803\n",
      "education     -0.4166      0.007    -62.569      0.000      -0.430      -0.404\n",
      "mpce_urp      -0.0001   8.03e-06    -18.629      0.000      -0.000      -0.000\n",
      "par0           6.0070      0.024    246.214      0.000       5.959       6.055\n",
      "==============================================================================\n"
     ]
    },
    {
     "name": "stderr",
     "output_type": "stream",
     "text": [
      "/Library/Frameworks/Python.framework/Versions/3.13/lib/python3.13/site-packages/statsmodels/base/model.py:2748: UserWarning: df_model + k_constant + k_extra differs from k_params\n",
      "  warnings.warn(\"df_model + k_constant + k_extra \"\n",
      "/Library/Frameworks/Python.framework/Versions/3.13/lib/python3.13/site-packages/statsmodels/base/model.py:2752: UserWarning: df_resid differs from nobs - k_params\n",
      "  warnings.warn(\"df_resid differs from nobs - k_params\")\n"
     ]
    }
   ],
   "source": [
    "import pandas as pd\n",
    "import numpy as np\n",
    "import statsmodels.api as sm\n",
    "from scipy.stats import norm\n",
    "from statsmodels.base.model import GenericLikelihoodModel  # Import here\n",
    "\n",
    "# Load your dataset\n",
    "df = pd.read_csv('/Users/danieljoegasper/Downloads/NSSO68 (1).csv')\n",
    "\n",
    "# Clean column names\n",
    "df.columns = df.columns.str.strip().str.lower()\n",
    "\n",
    "# Define dependent and independent variables\n",
    "y = df['ricepds_q']\n",
    "X = df[['age', 'sex', 'education', 'mpce_urp']]\n",
    "\n",
    "# Add constant (intercept) term\n",
    "X = sm.add_constant(X)\n",
    "\n",
    "# Drop missing values\n",
    "data = pd.concat([y, X], axis=1).dropna()\n",
    "y = data['ricepds_q']\n",
    "X = data.drop(columns=['ricepds_q'])\n",
    "\n",
    "# Define Tobit model class\n",
    "class TobitModel(GenericLikelihoodModel):\n",
    "    def __init__(self, endog, exog, left=0, **kwargs):\n",
    "        self.left = left\n",
    "        super(TobitModel, self).__init__(endog, exog, **kwargs)\n",
    "\n",
    "    def nloglikeobs(self, params):\n",
    "        exog = self.exog\n",
    "        endog = self.endog\n",
    "        left = self.left\n",
    "        beta = params[:-1]\n",
    "        sigma = params[-1]\n",
    "        XB = np.dot(exog, beta)\n",
    "        llf = np.zeros(len(endog))\n",
    "        mask_left = endog <= left\n",
    "        llf[mask_left] = np.log(norm.cdf((left - XB[mask_left]) / sigma))\n",
    "        mask_uncensored = ~mask_left\n",
    "        llf[mask_uncensored] = np.log(norm.pdf((endog[mask_uncensored] - XB[mask_uncensored]) / sigma) / sigma)\n",
    "        return -llf\n",
    "\n",
    "    def fit(self, start_params=None, maxiter=10000, maxfun=5000, **kwargs):\n",
    "        if start_params is None:\n",
    "            start_params = np.append(np.zeros(self.exog.shape[1]), 1)\n",
    "        return super(TobitModel, self).fit(start_params=start_params, maxiter=maxiter, maxfun=maxfun, **kwargs)\n",
    "\n",
    "# Fit the Tobit model\n",
    "model = TobitModel(y, X, left=0)\n",
    "results = model.fit(disp=1)\n",
    "\n",
    "# Print results summary\n",
    "print(results.summary())\n"
   ]
  }
 ],
 "metadata": {
  "kernelspec": {
   "display_name": "Python 3 (ipykernel)",
   "language": "python",
   "name": "python3"
  },
  "language_info": {
   "codemirror_mode": {
    "name": "ipython",
    "version": 3
   },
   "file_extension": ".py",
   "mimetype": "text/x-python",
   "name": "python",
   "nbconvert_exporter": "python",
   "pygments_lexer": "ipython3",
   "version": "3.13.2"
  }
 },
 "nbformat": 4,
 "nbformat_minor": 5
}
